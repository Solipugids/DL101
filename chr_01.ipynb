{
 "cells": [
  {
   "cell_type": "markdown",
   "id": "f4df94ee-b403-4a69-a620-07f42c37c16a",
   "metadata": {},
   "source": [
    "查看和改变工作路径"
   ]
  },
  {
   "cell_type": "code",
   "execution_count": 4,
   "id": "efb8cbfb-88bb-4f53-96c4-18ceeb9db299",
   "metadata": {},
   "outputs": [
    {
     "name": "stdout",
     "output_type": "stream",
     "text": [
      "/home/wangchao/github/DL101\n"
     ]
    }
   ],
   "source": [
    "import os\n",
    "print(os.getcwd())\n",
    "os.chdir('/home/wangchao/github/DL101/')"
   ]
  },
  {
   "cell_type": "markdown",
   "id": "5fbfa2a6-7f6c-48c3-8f14-0ebf647aa4d2",
   "metadata": {},
   "source": [
    "下标"
   ]
  },
  {
   "cell_type": "code",
   "execution_count": 12,
   "id": "b535b21e-2878-459b-aa8d-4be5b549dc9e",
   "metadata": {},
   "outputs": [
    {
     "data": {
      "text/plain": [
       "(['ss', 'swa', 'stick'], ['ss', 'swa'], [2, 3])"
      ]
     },
     "execution_count": 12,
     "metadata": {},
     "output_type": "execute_result"
    }
   ],
   "source": [
    "y = [[1, 2], [1, 2, 3], ['ss', 'swa', 'stick']]\n",
    "y[2], y[2][:2], y[1][1:]"
   ]
  },
  {
   "cell_type": "code",
   "execution_count": 13,
   "id": "d8a1eccc-8b4c-4c7d-99c7-08c4545b7a18",
   "metadata": {},
   "outputs": [
    {
     "data": {
      "text/plain": [
       "'A poet can survive everything but a misprint.'"
      ]
     },
     "execution_count": 13,
     "metadata": {},
     "output_type": "execute_result"
    }
   ],
   "source": [
    "x = 'A poet can survive everything but a misprint.'\n",
    "x[:10] + x[10:20] + x[20:30] + x[30:40] + x[40:]"
   ]
  },
  {
   "cell_type": "code",
   "execution_count": null,
   "id": "72b5f89f-67c8-4f7a-8058-57f57522b22a",
   "metadata": {},
   "outputs": [],
   "source": [
    "关于appned，extend和pop"
   ]
  },
  {
   "cell_type": "code",
   "execution_count": 17,
   "id": "a84e6f05-c989-493a-9102-233b641d8c39",
   "metadata": {},
   "outputs": [
    {
     "name": "stdout",
     "output_type": "stream",
     "text": [
      "[[1, 2], [3, 5, 7], 'Oscar Wilde', ['save', 'the world']]\n",
      "[[1, 2], [3, 5, 7], 'Oscar Wilde', ['save', 'the world'], 'save', 'the world']\n",
      "[[1, 2], [3, 5, 7], 'Oscar Wilde', ['save', 'the world'], 'save']\n",
      "[[1, 2], [3, 5, 7], ['save', 'the world'], 'save']\n"
     ]
    }
   ],
   "source": [
    "x = [[1, 2], [3, 5, 7], 'Oscar Wilde']\n",
    "y = ['save', 'the world']\n",
    "x.append(y); print(x)\n",
    "x.extend(y); print(x)\n",
    "x.pop(); print(x)\n",
    "x.pop(2); print(x)"
   ]
  },
  {
   "cell_type": "markdown",
   "id": "30b21f77-cfcb-4df1-b221-d59b217b4bc6",
   "metadata": {},
   "source": [
    "关于查看帮助文档"
   ]
  },
  {
   "cell_type": "code",
   "execution_count": 26,
   "id": "0d96a9a7-8a49-42f9-b440-a3e2ab77665b",
   "metadata": {},
   "outputs": [
    {
     "data": {
      "text/plain": [
       "\u001b[0;31mSignature:\u001b[0m \u001b[0mx\u001b[0m\u001b[0;34m.\u001b[0m\u001b[0mpop\u001b[0m\u001b[0;34m(\u001b[0m\u001b[0mindex\u001b[0m\u001b[0;34m=\u001b[0m\u001b[0;34m-\u001b[0m\u001b[0;36m1\u001b[0m\u001b[0;34m,\u001b[0m \u001b[0;34m/\u001b[0m\u001b[0;34m)\u001b[0m\u001b[0;34m\u001b[0m\u001b[0;34m\u001b[0m\u001b[0m\n",
       "\u001b[0;31mDocstring:\u001b[0m\n",
       "Remove and return item at index (default last).\n",
       "\n",
       "Raises IndexError if list is empty or index is out of range.\n",
       "\u001b[0;31mType:\u001b[0m      builtin_function_or_method\n"
      ]
     },
     "metadata": {},
     "output_type": "display_data"
    }
   ],
   "source": [
    "x.pop?"
   ]
  },
  {
   "cell_type": "code",
   "execution_count": null,
   "id": "142e50c1-2fe9-45d7-b4f4-414f93bb00a9",
   "metadata": {},
   "outputs": [],
   "source": [
    "整数和浮点运算"
   ]
  },
  {
   "cell_type": "code",
   "execution_count": 28,
   "id": "1ff43f9b-8b98-42a3-b69c-4b377da751cb",
   "metadata": {},
   "outputs": [
    {
     "name": "stdout",
     "output_type": "stream",
     "text": [
      "1.4142135623730951 1.4142135623730951 1.4142135623730951\n",
      "1.3333333333333333 1.3333333333333333\n"
     ]
    }
   ],
   "source": [
    "print(2**0.5, 2.0**(1/2), 2**(1/2.))\n",
    "print(4/3, 4./3)"
   ]
  },
  {
   "cell_type": "markdown",
   "id": "1ba25352-1d50-4afb-8d7a-46cb242e9bc6",
   "metadata": {},
   "source": [
    "关于remove和del"
   ]
  }
 ],
 "metadata": {
  "kernelspec": {
   "display_name": "Python 3",
   "language": "python",
   "name": "python3"
  },
  "language_info": {
   "codemirror_mode": {
    "name": "ipython",
    "version": 3
   },
   "file_extension": ".py",
   "mimetype": "text/x-python",
   "name": "python",
   "nbconvert_exporter": "python",
   "pygments_lexer": "ipython3",
   "version": "3.10.4"
  }
 },
 "nbformat": 4,
 "nbformat_minor": 5
}
